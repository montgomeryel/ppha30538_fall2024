{
  "cells": [
    {
      "cell_type": "markdown",
      "metadata": {},
      "source": [
        "---\n",
        "title: \"Visualization (Intro)\"\n",
        "author: \"Peter Ganong and Maggie Shi\"\n",
        "date: today\n",
        "date-format: long\n",
        "format: \n",
        "  html:\n",
        "    echo: true\n",
        "    toc: true\n",
        "---\n",
        "\n",
        "<!--\n",
        "    beamer:\n",
        "        echo: true\n",
        "        toc: true\n",
        "        aspectratio: 169\n",
        "        theme: default\n",
        "        header-includes: \\renewcommand{\\tightlist}{\\setlength{\\itemsep}{5ex}\\setlength{\\parskip}{0pt}}\n",
        "            \\setbeamertemplate{footline}[frame number] \n",
        "            -->\n",
        "\n",
        "\n",
        "# Introduction to Vega-Lite\n",
        "\n",
        "## Roadmap\n",
        "\n",
        "* Textbook\n",
        "* What's different from `matplotlib`?\n",
        "* What is Vega and Vega-Lite?\n",
        "* First plot -- image and then grammar\n",
        "\n",
        "## Citing our sources\n",
        "\n",
        "This lecture closely follows an online textbook by Jeffrey Heer, Dominik Moritz, Jake VanderPlas, and Brock Craft.\n",
        "\n",
        "https://idl.uw.edu/visualization-curriculum/\n",
        "\n",
        "## Declarative approaches to visualization.\n",
        "\n",
        "Our old friend `matplotlib` is \"imperative\" meaning that you tell the computer what to do. Implement the visualization in terms of for-loops, low-level drawing commands.\n",
        "\n",
        "Good graphics packages are *declarative*, we mean that you can provide a high-level specification of *what* you want in the visualization. Three inputs \n",
        "\n",
        "* data \n",
        "* graphical marks \n",
        "* encoding channels\n",
        "\n",
        "We are going to use Vega-Lite + Altair in this class.\n",
        "\n",
        "## What is Vega, Vega-Lite, and Altair?\n",
        "\n",
        "A grammar of interactive graphics.\n",
        "\n",
        "Just like English has a grammar which lets you write a sentence, graphics can have a grammar that let you make a plot.\n",
        "\n",
        "A good grammar should be easy to use and clear (unlike English...).\n",
        "\n",
        "New vocabulary:\n",
        "\n",
        "* Vega is a sophisticated grammar\n",
        "* Vega-Lite is a more simple grammar\n",
        "* [JSON (JavaScript Object Notation)](https://en.wikipedia.org/wiki/JSON) is used to record Vega and Vega-Lite specifications\n",
        "* Altair is an API enabling Python to write Vega-Lite\n",
        "\n",
        "## The declarative approach w/ altair vs. imperative w/ matplotlib\n",
        "![](pictures/altair_v_matplotlib.png){ width=100% fig-align=\"center\"}\n",
        "\n",
        "* When using a **declarative approach**, your Python code tells `altair` how you want to visualize the data and it writes Vega/Vega-lite to \"draw\" the graph\n",
        "* When using an **imperative approach**, your Python code tells `matplotlib` directly how to \"draw\" the graph \n",
        "\n",
        "## Other declarative graphics packages\n",
        "\n",
        "| # | package | what it is \n",
        "| --- | --- | --- | \n",
        "| 1 |  `seaborn` | a wrapper for `matplotlib` to make it easier to use |\n",
        "| 2 | `plotly` | Designed for apps and dashboards. Some features cost $. | \n",
        "| 3 | `bokeh` | Designed for apps and dashboards. |\n",
        "| 4 | `plotnine` | an exact clone of `ggplot2` | \n",
        "\n",
        "Why did we choose Altair and not one of these?\n",
        "\n",
        "1. Makes beautiful plots, but under the hood it has all the problems that `matplotlib` does\n",
        "2. We wanted something that was also good for static graphics. Not entirely free.\n",
        "3. See above.\n",
        "4. It doesn't make sense for your \"main\" plotting language in Python to be a crude port of something from R.\n",
        "\n",
        "## Installation\n",
        "\n",
        "```{bash}\n",
        "pip install altair\n",
        "pip install vega_datasets\n",
        "```\n",
        "\n",
        "\n",
        "\n",
        "## My first plot -- image "
      ],
      "id": "1976b9e7"
    },
    {
      "cell_type": "code",
      "metadata": {},
      "source": [
        "#| echo: false \n",
        "import altair as alt\n",
        "from vega_datasets import data as vega_data\n",
        "df = vega_data.seattle_weather()\n",
        "alt.Chart(df).mark_bar().encode(\n",
        "    alt.X('month(date)'),\n",
        "    alt.Y('average(precipitation)')\n",
        ")"
      ],
      "id": "21341d38",
      "execution_count": null,
      "outputs": []
    },
    {
      "cell_type": "markdown",
      "metadata": {},
      "source": [
        "[source](https://vega.github.io/vega-lite/#example).\n",
        "\n",
        "## My first plot -- grammar\n",
        "\n",
        "```{json}\n",
        "{\n",
        "  \"data\": {\"url\": \"data/seattle-weather.csv\"},\n",
        "  \"mark\": \"bar\",\n",
        "  \"encoding\": {\n",
        "    \"x\": {\"timeUnit\": \"month\", \"field\": \"date\", \"type\": \"ordinal\"},\n",
        "    \"y\": {\"aggregate\": \"mean\", \"field\": \"precipitation\"}\n",
        "  }\n",
        "}\n",
        "```\n",
        "\n",
        "\n",
        "* This is designed to be readable for both a human and for Vega. Pretty cool!\n",
        "\n",
        "Discussion question: what does each line of text mean?\n",
        "\n",
        "## Why the emphasis on grammar?\n",
        "* Packages for doing graphics and coding languages change over time\n",
        "* We chose to teach a package with an underlying grammar because we are trying to foreground the conceptual aspects of data visualization\n",
        "* This will hopefully teach you insights that are portable, even as which language you or your staff choose to work in change over time\n",
        "\n",
        "\n",
        "## Summary\n",
        "\n",
        "* Use a declarative approach\n",
        "* Grammar: Vega\n",
        "* Gives a coherent conceptual representation underlying a plot\n",
        "\n",
        "\n",
        "# Introduction to Altair and datasets\n",
        "\n",
        "## What is Altair? + roadmap\n",
        "\n",
        "Altair is a Python [API (Application Programming Interface)](https://en.wikipedia.org/wiki/Application_programming_interface) that generates Vega-Lite specifications in JSON\n",
        "\n",
        "Roadmap:\n",
        "\n",
        "* Load package\n",
        "* Load data\n",
        "\n",
        "\n",
        "## Imports and Renderer\n"
      ],
      "id": "88fc88ed"
    },
    {
      "cell_type": "code",
      "metadata": {},
      "source": [
        "import pandas as pd\n",
        "import altair as alt"
      ],
      "id": "74f14576",
      "execution_count": null,
      "outputs": []
    },
    {
      "cell_type": "markdown",
      "metadata": {},
      "source": [
        "Depending on your environment, you may need to specify a renderer for Altair. If you are using the class-recommended workflow, you should not need to do anything extra. Otherwise, please read the documentation for [Displaying Altair Charts](https://altair-viz.github.io/user_guide/display_frontends.html). If that fails, post in Ed and bring your question to lab.\n",
        "\n",
        "## Vega_datasets formatted for Pandas\n",
        "\n",
        "We will often use datasets from the [vega-datasets](https://github.com/vega/vega-datasets) repository. Some of these datasets are directly available as Pandas data frames:\n"
      ],
      "id": "d04253c5"
    },
    {
      "cell_type": "code",
      "metadata": {},
      "source": [
        "from vega_datasets import data as vega_data\n",
        "cars = vega_data.cars()              \n",
        "cars.head()  "
      ],
      "id": "56a18ff1",
      "execution_count": null,
      "outputs": []
    },
    {
      "cell_type": "markdown",
      "metadata": {},
      "source": [
        "## Vega_datasets formatted for JSON"
      ],
      "id": "640cddf1"
    },
    {
      "cell_type": "code",
      "metadata": {},
      "source": [
        "#URL if you want \n",
        "vega_data.cars.url"
      ],
      "id": "748e3b87",
      "execution_count": null,
      "outputs": []
    },
    {
      "cell_type": "markdown",
      "metadata": {},
      "source": [
        "What you will see if you go to this link\n",
        "```\n",
        "   {\n",
        "      \"Name\":\"chevrolet chevelle malibu\",\n",
        "      \"Miles_per_Gallon\":18,\n",
        "      \"Cylinders\":8,\n",
        "      \"Displacement\":307,\n",
        "      \"Horsepower\":130,\n",
        "      \"Weight_in_lbs\":3504,\n",
        "      \"Acceleration\":12,\n",
        "      \"Year\":\"1970-01-01\",\n",
        "      \"Origin\":\"USA\"\n",
        "   }, ...\n",
        "```\n",
        "\n",
        "Looks less familiar (and more repetitive). Just use `pd.read_json(data.cars.url)` to convert to tabular\n",
        "\n",
        "## Weather Data\n",
        "Statistical visualization in Altair begins with [\"tidy\"](http://vita.had.co.nz/papers/tidy-data.html) data frames. Here, we'll start by creating a simple data frame (`df`) containing the average precipitation (`precip`) for a given `city` and `month` :"
      ],
      "id": "492efb50"
    },
    {
      "cell_type": "code",
      "metadata": {},
      "source": [
        "df = pd.DataFrame({\n",
        "    'city': ['Seattle', 'Seattle', 'Seattle', 'New York', 'New York', 'New York', 'Chicago', 'Chicago', 'Chicago'],\n",
        "    'month': ['Apr', 'Aug', 'Dec', 'Apr', 'Aug', 'Dec', 'Apr', 'Aug', 'Dec'],\n",
        "    'precip': [2.68, 0.87, 5.31, 3.94, 4.13, 3.58, 3.62, 3.98, 2.56]\n",
        "})\n",
        "\n",
        "df"
      ],
      "id": "f0e30084",
      "execution_count": null,
      "outputs": []
    },
    {
      "cell_type": "markdown",
      "metadata": {},
      "source": [
        "## Summary\n",
        "\n",
        "* Altair is an API that enables Python to \"speak\" in Vega-Lite's grammar\n",
        "* Datasets: cars, weather\n",
        "\n",
        "# Building a first chart\n",
        "\n",
        "## Building a first chart: roadmap\n",
        "* incrementally build our first chart\n",
        "* then build our first aggregated chart\n",
        "\n",
        "## The `Chart` object"
      ],
      "id": "355818dd"
    },
    {
      "cell_type": "code",
      "metadata": {},
      "source": [
        "chart = alt.Chart(df)"
      ],
      "id": "a301ac05",
      "execution_count": null,
      "outputs": []
    },
    {
      "cell_type": "markdown",
      "metadata": {},
      "source": [
        "## A single point"
      ],
      "id": "54171d42"
    },
    {
      "cell_type": "code",
      "metadata": {},
      "source": [
        "alt.Chart(df).mark_point()"
      ],
      "id": "7cefcb6c",
      "execution_count": null,
      "outputs": []
    },
    {
      "cell_type": "markdown",
      "metadata": {},
      "source": [
        "Actually this is many points all located in the same place\n",
        "\n",
        "## One point per city on y-axis"
      ],
      "id": "e91606d5"
    },
    {
      "cell_type": "code",
      "metadata": {},
      "source": [
        "alt.Chart(df).mark_point().encode(\n",
        "  alt.Y('city')\n",
        ")"
      ],
      "id": "2c03340b",
      "execution_count": null,
      "outputs": []
    },
    {
      "cell_type": "markdown",
      "metadata": {},
      "source": [
        "## xy coordinates"
      ],
      "id": "cadd1154"
    },
    {
      "cell_type": "code",
      "metadata": {},
      "source": [
        "alt.Chart(df).mark_point().encode(\n",
        "  alt.X('precip'),\n",
        "  alt.Y('city')\n",
        ")"
      ],
      "id": "e99e7fd4",
      "execution_count": null,
      "outputs": []
    },
    {
      "cell_type": "markdown",
      "metadata": {},
      "source": [
        "Process: Code is super-duper readable.\n",
        "\n",
        "Substance: _Seattle exhibits both the least-rainiest and most-rainiest months!_\n",
        "\n",
        "<!-- PG note to self: textbook then discusses encoding but provides no explanation for why this is useful or appropriate. I am skipping it entirely for now, can revisit it later -->\n",
        "\n",
        "<!-- MS note to self: check if the order in which `mark_point() and `encode()` go matters. -->\n",
        "\n",
        "\n",
        "## Data Transformation: Aggregation"
      ],
      "id": "1c76b234"
    },
    {
      "cell_type": "code",
      "metadata": {},
      "source": [
        "alt.Chart(df).mark_point().encode(\n",
        "  alt.X('average(precip)'),\n",
        "  alt.Y('city')\n",
        ")"
      ],
      "id": "d5295d4c",
      "execution_count": null,
      "outputs": []
    },
    {
      "cell_type": "markdown",
      "metadata": {},
      "source": [
        "## Bar plot"
      ],
      "id": "9d1bae78"
    },
    {
      "cell_type": "code",
      "metadata": {},
      "source": [
        "alt.Chart(df).mark_bar().encode(\n",
        "    alt.X('average(precip)'),\n",
        "    alt.Y('city')\n",
        ")"
      ],
      "id": "46e2c734",
      "execution_count": null,
      "outputs": []
    },
    {
      "cell_type": "markdown",
      "metadata": {},
      "source": [
        "## Syntax: Understanding Altair's shorthands.\n",
        "\n",
        "Three ways to say the same idea\n"
      ],
      "id": "7109eff1"
    },
    {
      "cell_type": "code",
      "metadata": {},
      "source": [
        "#| eval: false\n",
        "\n",
        "# what we will continue to use\n",
        "alt.X('average(precip)')\n",
        "\n",
        "# shorter\n",
        "x = 'average(precip)'\n",
        "\n",
        "#longer\n",
        "alt.X(aggregate='average', field='precip', type='quantitative')"
      ],
      "id": "289cc516",
      "execution_count": null,
      "outputs": []
    },
    {
      "cell_type": "markdown",
      "metadata": {},
      "source": [
        "## Customizing a plot -- colors and labels\n"
      ],
      "id": "9785e22a"
    },
    {
      "cell_type": "code",
      "metadata": {},
      "source": [
        "alt.Chart(df).mark_point(color='firebrick').encode(\n",
        "  alt.X('precip', axis=alt.Axis(title='Rain  (in)')),\n",
        "  alt.Y('city', axis=alt.Axis(title='City')),\n",
        ")"
      ],
      "id": "8282242b",
      "execution_count": null,
      "outputs": []
    },
    {
      "cell_type": "markdown",
      "metadata": {},
      "source": [
        "## Customizing a visualization -- log scale\n"
      ],
      "id": "d7eaa1d6"
    },
    {
      "cell_type": "code",
      "metadata": {},
      "source": [
        "alt.Chart(df).mark_point(color='firebrick').encode(\n",
        "  alt.X('precip', scale=alt.Scale(type='log'), axis=alt.Axis(title='Log-Scaled Values')),\n",
        "  alt.Y('city', axis=alt.Axis(title='City')),\n",
        ")"
      ],
      "id": "8cdb5079",
      "execution_count": null,
      "outputs": []
    },
    {
      "cell_type": "markdown",
      "metadata": {},
      "source": [
        "## Building a first chart: summary\n",
        "\n",
        "* Everything begins with a `Chart(data)`\n",
        "* Every `Chart` needs a `mark`\n",
        "* Every `Chart` needs guidance how to encode the data in terms of `mark`s\n",
        "* Simple chart formatting: `mark_point(color='firebrick')`, `axis=alt.Axis(title=...)`, `scale=alt.Scale(type='log')`\n",
        "\n",
        "## Data Transformation: Do-pair-share\n",
        "\n",
        "Make a bar plot showing the **lowest** rainfall for each city in the dataset.\n",
        "\n",
        "Hint: Altair's aggregation methods are [here](https://altair-viz.github.io/user_guide/encodings/index.html#aggregation-functions)\n",
        "\n",
        "# Multiple Views \n",
        "\n",
        "## Multiple Views: roadmap\n",
        "\n",
        "* introduce `mark_line()`\n",
        "* line + `mark_circle()` on one panel\n",
        "* multiple panels\n",
        "\n",
        "## `mark_line()`\n"
      ],
      "id": "c11f6c42"
    },
    {
      "cell_type": "code",
      "metadata": {},
      "source": [
        "alt.Chart(cars).mark_line().encode(\n",
        "    alt.X('Year'),\n",
        "    alt.Y('average(Miles_per_Gallon)')\n",
        ")"
      ],
      "id": "6d1df1d1",
      "execution_count": null,
      "outputs": []
    },
    {
      "cell_type": "markdown",
      "metadata": {},
      "source": [
        "## Multiple Marks -- the long way\n"
      ],
      "id": "edbaef7e"
    },
    {
      "cell_type": "code",
      "metadata": {},
      "source": [
        "line = alt.Chart(cars).mark_line().encode(\n",
        "    alt.X('Year'),\n",
        "    alt.Y('average(Miles_per_Gallon)')\n",
        ")\n",
        "\n",
        "point = alt.Chart(cars).mark_circle().encode(\n",
        "    alt.X('Year'),\n",
        "    alt.Y('average(Miles_per_Gallon)')\n",
        ")\n",
        "\n",
        "line + point"
      ],
      "id": "f38ba788",
      "execution_count": null,
      "outputs": []
    },
    {
      "cell_type": "markdown",
      "metadata": {},
      "source": [
        "## Multiple Marks -- the short way\n"
      ],
      "id": "b70d19d4"
    },
    {
      "cell_type": "code",
      "metadata": {},
      "source": [
        "mpg = alt.Chart(cars).mark_line().encode(\n",
        "    alt.X('Year'),\n",
        "    alt.Y('average(Miles_per_Gallon)')\n",
        ")\n",
        "\n",
        "mpg + mpg.mark_circle()"
      ],
      "id": "05c4af4b",
      "execution_count": null,
      "outputs": []
    },
    {
      "cell_type": "markdown",
      "metadata": {},
      "source": [
        "## Multiple Marks -- the shortest way\n"
      ],
      "id": "72a680be"
    },
    {
      "cell_type": "code",
      "metadata": {},
      "source": [
        "#| eval: false\n",
        "alt.Chart(cars).mark_line(point=True).encode(\n",
        "    alt.X('Year'),\n",
        "    alt.Y('average(Miles_per_Gallon)')\n",
        ")"
      ],
      "id": "85580d69",
      "execution_count": null,
      "outputs": []
    },
    {
      "cell_type": "markdown",
      "metadata": {},
      "source": [
        "## Multiple Panels "
      ],
      "id": "2396e890"
    },
    {
      "cell_type": "code",
      "metadata": {},
      "source": [
        "hp = alt.Chart(cars).mark_line().encode(\n",
        "    alt.X('Year'),\n",
        "    alt.Y('average(Horsepower)')\n",
        ")\n",
        "\n",
        "(mpg + mpg.mark_circle()) | (hp + hp.mark_circle())"
      ],
      "id": "ccf0ff79",
      "execution_count": null,
      "outputs": []
    },
    {
      "cell_type": "markdown",
      "metadata": {},
      "source": [
        "## Multiple Views -- summary\n",
        "\n",
        "* `mark_line() + mark_point()` or `mark_line(point=True)`\n",
        "* `plot1 | plot2` for side-by-side\n",
        "\n",
        "Note: this is just a preview, we will do a lot more on multiple views in lecture 6 (textbook's chapter 5).\n",
        "\n",
        "# Under the hood: JSON\n",
        "\n",
        "\n",
        "## roadmap\n",
        "\n",
        "* Beauty of JSON\n",
        "* Teach how Altair writes JSON via three cumulative examples\n",
        "* More syntax for working with JSON\n",
        "* In-class exercise\n",
        "\n",
        "## The beauty of JSON\n",
        "\n",
        "\"JSON Schema is the vocabulary that enables JSON data consistency, validity, and interoperability at scale.\"\n",
        "\n",
        "Documents that are \n",
        "\n",
        "* hierarchical (unlike tables)\n",
        "* interpretable for humans and computers\n",
        "\n",
        "https://vega.github.io/schema/vega-lite/v5.json\n",
        "\n",
        "## Example from the schema\n",
        "\n",
        "\n",
        "```{json}\n",
        "    \"Mark\": {\n",
        "      \"description\": \"All types of primitive marks.\",\n",
        "      \"enum\": [\n",
        "        \"arc\",\n",
        "        \"area\",\n",
        "        \"bar\",\n",
        "        \"image\",\n",
        "        \"line\",\n",
        "        \"point\",\n",
        "        \"rect\",\n",
        "        \"rule\",\n",
        "        \"text\",\n",
        "        \"tick\",\n",
        "        \"trail\",\n",
        "        \"circle\",\n",
        "        \"square\",\n",
        "        \"geoshape\"\n",
        "      ],\n",
        "      \"type\": \"string\"\n",
        "```\n",
        "\n",
        "\n",
        "\n",
        "## example 1: snippet from Altair\n",
        "\n",
        "Altair can best be thought of as a language translator. It writes JSON for you. More specifically, it writes JSON which complies with the grammar rules laid out by Vega-Lite."
      ],
      "id": "89c8af5b"
    },
    {
      "cell_type": "code",
      "metadata": {},
      "source": [
        "#python altair object. will explain :Q in next lecture\n",
        "x = alt.X('average(precipitation):Q') \n",
        "print(x.to_json())                  "
      ],
      "id": "cb06a153",
      "execution_count": null,
      "outputs": []
    },
    {
      "cell_type": "markdown",
      "metadata": {},
      "source": [
        "## example 2: longer snippet from Altair"
      ],
      "id": "a4252faf"
    },
    {
      "cell_type": "code",
      "metadata": {},
      "source": [
        "chart = alt.Chart().mark_point().encode(\n",
        "    alt.X('average(precipitation):Q'),\n",
        "    alt.Y('city:O')\n",
        ")\n",
        "print(chart.to_json())"
      ],
      "id": "e2a1ff83",
      "execution_count": null,
      "outputs": []
    },
    {
      "cell_type": "markdown",
      "metadata": {},
      "source": [
        "## Example 3: add `df` to make the bar plot from earlier in lecture"
      ],
      "id": "4ab5fd7f"
    },
    {
      "cell_type": "code",
      "metadata": {},
      "source": [
        "chart = alt.Chart(df).mark_point().encode(\n",
        "    alt.X('average(precip)'),\n",
        "    alt.Y('city')\n",
        ")\n",
        "print(chart.to_json())"
      ],
      "id": "0fdb1518",
      "execution_count": null,
      "outputs": []
    },
    {
      "cell_type": "markdown",
      "metadata": {},
      "source": [
        "## syntax: `keys()`"
      ],
      "id": "65fdca32"
    },
    {
      "cell_type": "code",
      "metadata": {},
      "source": [
        "import json\n",
        "chart_as_string = chart.to_json()\n",
        "chart = json.loads(chart_as_string)\n",
        "chart.keys()"
      ],
      "id": "3d9c8c5e",
      "execution_count": null,
      "outputs": []
    },
    {
      "cell_type": "markdown",
      "metadata": {},
      "source": [
        "## extract dataset\n"
      ],
      "id": "604e58a1"
    },
    {
      "cell_type": "code",
      "metadata": {},
      "source": [
        "chart.get(\"datasets\")"
      ],
      "id": "619b3123",
      "execution_count": null,
      "outputs": []
    },
    {
      "cell_type": "markdown",
      "metadata": {},
      "source": [
        "## in-class exercise\n",
        "\n",
        "1. extract `chart`'s encoding.\n",
        "2. extract just the encoding for `x`\n",
        "\n",
        "\n",
        "## summary\n",
        "\n",
        "JSON creates documents that are interpretable for humans and computers.\n",
        "\n",
        "The JSON schema enforces the grammar rules."
      ],
      "id": "c71537a7"
    }
  ],
  "metadata": {
    "kernelspec": {
      "display_name": "Python 3",
      "language": "python",
      "name": "python3"
    }
  },
  "nbformat": 4,
  "nbformat_minor": 5
}